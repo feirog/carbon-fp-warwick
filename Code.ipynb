{
  "nbformat": 4,
  "nbformat_minor": 0,
  "metadata": {
    "colab": {
      "name": "Untitled0.ipynb",
      "provenance": [],
      "authorship_tag": "ABX9TyOc4kykAVFCednFJ0Iij1Rj",
      "include_colab_link": true
    },
    "kernelspec": {
      "name": "python3",
      "display_name": "Python 3"
    }
  },
  "cells": [
    {
      "cell_type": "markdown",
      "metadata": {
        "id": "view-in-github",
        "colab_type": "text"
      },
      "source": [
        "<a href=\"https://colab.research.google.com/github/feirog/carbon-fp-warwick/blob/main/Code.ipynb\" target=\"_parent\"><img src=\"https://colab.research.google.com/assets/colab-badge.svg\" alt=\"Open In Colab\"/></a>"
      ]
    },
    {
      "cell_type": "markdown",
      "metadata": {
        "id": "vwyASoxF8cr0"
      },
      "source": [
        "# **\"*Pseudo-app*\" - Food Carbon Footprint Calculator**"
      ]
    },
    {
      "cell_type": "markdown",
      "metadata": {
        "id": "xk8SJfFw8zSk"
      },
      "source": [
        "Because I am the 'beginnest' of beginners, and I have no idea of how to make it a real app or a website. :,D\r\n",
        "\r\n",
        "... So, here's what I was able to make! Hope you enjoy it!^^\r\n",
        "\r\n",
        "(please, run it before starting~)"
      ]
    },
    {
      "cell_type": "code",
      "metadata": {
        "id": "fnq7rGb4LWFJ"
      },
      "source": [
        "#this is to plot inside the notebook\r\n",
        "%matplotlib inline\r\n",
        "\r\n",
        "# Let's start by importing some libraries\r\n",
        "import numpy as np\r\n",
        "import sklearn\r\n",
        "import matplotlib.pyplot as plt\r\n",
        "import matplotlib\r\n",
        "\r\n",
        "# A seed for the random number generator if I need it\r\n",
        "np.random.seed(15)\r\n",
        "\r\n",
        "# Makes plots look nicer\r\n",
        "matplotlib.style.use(\"seaborn-notebook\")\r\n",
        "\r\n",
        "# Let's also hide unnecessary warnings\r\n",
        "import warnings\r\n",
        "warnings.filterwarnings('ignore')\r\n",
        "#-----------------------------------------------"
      ],
      "execution_count": 3,
      "outputs": []
    },
    {
      "cell_type": "markdown",
      "metadata": {
        "id": "RR8uqf2i9mFk"
      },
      "source": [
        "Below we will put the data collected by Poore & Nemecek (2018):"
      ]
    },
    {
      "cell_type": "code",
      "metadata": {
        "id": "AzP8GI6XLcX2"
      },
      "source": [
        "ghg_emissions = np.array([0.6,0.4,0.2,0.9,1.2,0.6,1.4,3.2,1.8,8,4,3,12,1.0,20,6.3,7.3,3.6,3.8,5.4,2.1,0.5,0.4,0.5,0.5,0.4,0.9,0.4,1.5,0.1,1.1,0.4,2.3,500,170,200,76,57,3.2,110,42,60,180])\r\n",
        "product = ('Wheat & Rye (Bread)','Maize (Meal)','Barley (Beer)','Oatmeal','Rice','Potatoes','Cassava','Cane Sugar',\r\n",
        "                    'Beet Sugar','Other Pulses','Peas','Nuts','Groundnuts','Soymilk','Tofu','Soybean Oil','Palm Oil','Sunflower Oil',\r\n",
        "                    'Rapeseed Oil','Olive Oil','Tomatoes','Onions & Leeks','Root Vegetables','Brassicas','Other Vegetables','Citrus Fruit',\r\n",
        "                    'Bananas','Apples','Berries & Grapes','Wine','Other Fruit','Coffee','Dark Chocolate','Bovine Meat (beef herd)','Bovine Meat (dairy herd)',\r\n",
        "                    'Lamb & Mutton','Pig Meat','Poultry Meat','Milk','Cheese','Eggs','Fish (farmed)','Crustaceans (farmed)')\r\n",
        "portion = ('kcal','kcal','unit (10 ml of alcohol)','kcal','kcal','kcal','kcal',\r\n",
        "                    'kg','kg','kg protein','kg protein','kg protein','kg protein','L','kg protein','L','L',\r\n",
        "                    'L','L','L','kg','kg','kg','kg','kg','kg','kg',\r\n",
        "                    'kg','kg','unit (10 ml of alcohol)','kg','serving (1 cup, 15g)','serving (50g)',\r\n",
        "                    'kg protein','kg protein','kg protein','kg protein','kg protein', 'L','kg protein','kg protein','kg protein',\r\n",
        "                    'kg protein')\r\n",
        "\r\n",
        "#To suggest alternatives, let's classify them!\r\n",
        "meat = ('Bovine Meat (beef herd)','Bovine Meat (dairy herd)','Lamb & Mutton','Pig Meat','Poultry Meat')\r\n",
        "fish = ('Crustaceans (farmed)','Fish (farmed)')\r\n",
        "grain = ('Groundnuts','Nuts','Grains','Other Pulses','Peas')\r\n",
        "other_protein = ('Cheese','Eggs','Tofu')\r\n",
        "milks = ('Milk','Soymilk')\r\n",
        "starch_rich = ('Cassava','Rice','Oatmeal','Potatoes', 'Wheat & Rye (Bread)','Maize (Meal)')\r\n",
        "oils = ('Palm Oil','Soybean Oil','Olive Oil','Rapeseed Oil','Sunflower Oil')\r\n",
        "vegetables = ('Tomatoes','Onions & Leeks','Root Vegetables','Brassicas','Other Vegetables')\r\n",
        "fruits = ('Citrus Fruit','Bananas','Apples','Berries & Grapes','Other Fruit')\r\n",
        "sugars = ('Cane Sugar','Beet Sugar')\r\n",
        "alcoholic_beverages = ('Barley (Beer)','Wine')\r\n",
        "stimulants = ('Coffee','Dark Chocolate')\r\n",
        "\r\n",
        "options = ('Meat','Fish','Grain','Other protein sources (tofu, eggs...)','Milks','Starch rich food (potatoes, bread, rice...)',\r\n",
        "           'Oils','Vegetables','Fruits','Sugars','Alcoholic beverages','Stimulants (coffee, dark chocolate)','Nothing else')\r\n",
        "options_var = (meat,fish,grain,other_protein,milks,starch_rich,oils,vegetables,fruits,sugars,alcoholic_beverages,stimulants)\r\n",
        "ghg_count = 0\r\n",
        "ingredients = list()\r\n",
        "ingredients_contribution = []\r\n",
        "alternative = list()\r\n",
        "alt_contribution = []\r\n"
      ],
      "execution_count": 34,
      "outputs": []
    },
    {
      "cell_type": "markdown",
      "metadata": {
        "id": "zaaqPjSBBr1r"
      },
      "source": [
        "## **START!**"
      ]
    },
    {
      "cell_type": "markdown",
      "metadata": {
        "id": "Il07hlBjB2xH"
      },
      "source": [
        "Hi everybody, and **welcome**!\r\n",
        "\r\n",
        "As you might have noticed, we are living in quite the eventful times. And we just got started! Climate change has already been causing many disasters everywhere around.\r\n",
        "\r\n",
        "So, because of this, I'd like to thank you for taking your time to inform yourself about the **impact your dietary choices have on the environment**. ^^\r\n",
        "\r\n",
        "To quantify this, we will use the '**Carbon Footprint**' measure, which -in simple terms- outputs the CO2 the subject is responsible for releasing. It accounts for all the energy, water, and resources that were needed to produce it.\r\n",
        "\r\n",
        "I will also try to provide you with some **alternatives**, but please take into account these will be made ***only*** based on a lesser Carbon Footprint and should ***not*** be taken as health advice. Remember to keep a varied diet! <----(the alternatives will be a future update, I ran out of time hehe!)\r\n",
        "\r\n",
        "\r\n",
        "### Let's begin!"
      ]
    },
    {
      "cell_type": "code",
      "metadata": {
        "colab": {
          "base_uri": "https://localhost:8080/",
          "height": 1000
        },
        "id": "6VRjwoAe8Uso",
        "outputId": "b22c46b0-5047-4d71-b4e7-8e10cb744567"
      },
      "source": [
        "print('What was on your meal?')\r\n",
        "for n in range(100):\r\n",
        "  print('Choose from below:')\r\n",
        "  for idx in range(len(options)):\r\n",
        "    print('\\t',idx,'\\t',options[idx])\r\n",
        "  choice = int(input())\r\n",
        "\r\n",
        "  if choice == 12:\r\n",
        "    break\r\n",
        "\r\n",
        "  print(\" \")\r\n",
        "\r\n",
        "  print('Which option fits more the',options[choice],'you had? --- (please choose a similar if it isn`t shown here)')\r\n",
        "  food_cat = options_var[choice]\r\n",
        "  for food in range(len(food_cat)):\r\n",
        "    print('\\t',food,'\\t',food_cat[food])\r\n",
        "  print('\\t',len(food_cat),'\\t None of these are close to what I ate.')\r\n",
        "  print('\\t',len(food_cat)+1,'\\t(Go back to the categories.)')\r\n",
        "  exact_choice = int(input())\r\n",
        "\r\n",
        "  if exact_choice == (len(food_cat)):\r\n",
        "    print('Oh! We are sorry to hear that. Current data is still very limited sadly.')\r\n",
        "    print('Let`s continue with the next ingredient~')\r\n",
        "    \r\n",
        "  if exact_choice < (len(food_cat)):\r\n",
        "    general_idx = product.index(food_cat[exact_choice])\r\n",
        "    print('Cool!')\r\n",
        "    print('What was the approximate amount in',portion[general_idx],'of',product[general_idx],'?')\r\n",
        "    amount = float(input())*ghg_emissions[general_idx]\r\n",
        "    ghg_count += amount\r\n",
        "    ingredients.append(product[general_idx])\r\n",
        "    ingredients_contribution.append(amount)\r\n",
        "  print(\" \")\r\n",
        "  print(\"What else was on your meal?\")\r\n",
        "\r\n",
        "print(\"...\")\r\n",
        "print(\"...\")\r\n",
        "print(\"...Calculating...\")\r\n",
        "print(\"...\")\r\n",
        "print(\"...\")\r\n",
        "\r\n",
        "print('Alright! Here is the Carbon Footprint of your meal:')\r\n",
        "print('Total:',ghg_count.sum(),'kg*CO2eq')\r\n",
        "print(\" \")\r\n",
        "print(\" \")\r\n",
        "print('Would you like to see what each ingredient contributed to the overall value?')\r\n",
        "desglose = input('Yes or No ')\r\n",
        "if desglose == 'Yes' or 'yes':\r\n",
        "  fig,ax = plt.subplots(figsize=(8,4))\r\n",
        "  ax.bar(ingredients,ingredients_contribution)\r\n",
        "  ax.bar('Total',ghg_count)\r\n",
        "  fig.suptitle(\"Figure 1. CF of each of your meal's ingredients.\", y = 1,  x = 0.3,fontweight=\"bold\", size = 12)\r\n",
        "  ax.set_xlabel(\"Ingredients\")\r\n",
        "  ax.set_ylabel(\"Carbon Footprint/(kg*CO2eq\")\r\n",
        "  plt.show(ax)\r\n",
        "\r\n",
        "print(\" \")\r\n",
        "#Define and make it for the alternatives"
      ],
      "execution_count": 35,
      "outputs": [
        {
          "output_type": "stream",
          "text": [
            "What was on your meal?\n",
            "Choose from below:\n",
            "\t 0 \t Meat\n",
            "\t 1 \t Fish\n",
            "\t 2 \t Grain\n",
            "\t 3 \t Other protein sources (tofu, eggs...)\n",
            "\t 4 \t Milks\n",
            "\t 5 \t Starch rich food (potatoes, bread, rice...)\n",
            "\t 6 \t Oils\n",
            "\t 7 \t Vegetables\n",
            "\t 8 \t Fruits\n",
            "\t 9 \t Sugars\n",
            "\t 10 \t Alcoholic beverages\n",
            "\t 11 \t Stimulants (coffee, dark chocolate)\n",
            "\t 12 \t Nothing else\n",
            "0\n",
            " \n",
            "Which option fits more the Meat you had? --- (please choose a similar if it isn`t shown here)\n",
            "\t 0 \t Bovine Meat (beef herd)\n",
            "\t 1 \t Bovine Meat (dairy herd)\n",
            "\t 2 \t Lamb & Mutton\n",
            "\t 3 \t Pig Meat\n",
            "\t 4 \t Poultry Meat\n",
            "\t 5 \t None of these are close to what I ate.\n",
            "\t 6 \t(Go back to the categories.)\n",
            "0\n",
            "Cool!\n",
            "What was the approximate amount in kg protein of Bovine Meat (beef herd) ?\n",
            "0.5\n",
            " \n",
            "What else was on your meal?\n",
            "Choose from below:\n",
            "\t 0 \t Meat\n",
            "\t 1 \t Fish\n",
            "\t 2 \t Grain\n",
            "\t 3 \t Other protein sources (tofu, eggs...)\n",
            "\t 4 \t Milks\n",
            "\t 5 \t Starch rich food (potatoes, bread, rice...)\n",
            "\t 6 \t Oils\n",
            "\t 7 \t Vegetables\n",
            "\t 8 \t Fruits\n",
            "\t 9 \t Sugars\n",
            "\t 10 \t Alcoholic beverages\n",
            "\t 11 \t Stimulants (coffee, dark chocolate)\n",
            "\t 12 \t Nothing else\n",
            "1\n",
            " \n",
            "Which option fits more the Fish you had? --- (please choose a similar if it isn`t shown here)\n",
            "\t 0 \t Crustaceans (farmed)\n",
            "\t 1 \t Fish (farmed)\n",
            "\t 2 \t None of these are close to what I ate.\n",
            "\t 3 \t(Go back to the categories.)\n",
            "1\n",
            "Cool!\n",
            "What was the approximate amount in kg protein of Fish (farmed) ?\n",
            "0.1\n",
            " \n",
            "What else was on your meal?\n",
            "Choose from below:\n",
            "\t 0 \t Meat\n",
            "\t 1 \t Fish\n",
            "\t 2 \t Grain\n",
            "\t 3 \t Other protein sources (tofu, eggs...)\n",
            "\t 4 \t Milks\n",
            "\t 5 \t Starch rich food (potatoes, bread, rice...)\n",
            "\t 6 \t Oils\n",
            "\t 7 \t Vegetables\n",
            "\t 8 \t Fruits\n",
            "\t 9 \t Sugars\n",
            "\t 10 \t Alcoholic beverages\n",
            "\t 11 \t Stimulants (coffee, dark chocolate)\n",
            "\t 12 \t Nothing else\n",
            "12\n",
            "...\n",
            "...\n",
            "...Calculating...\n",
            "...\n",
            "...\n",
            "Alright! Here is the Carbon Footprint of your meal:\n",
            "Total: 256.0 kg*CO2eq\n",
            "Would you like to see what each ingredient contributed to the overall value?\n",
            "Yes or No yes\n"
          ],
          "name": "stdout"
        },
        {
          "output_type": "display_data",
          "data": {
            "image/png": "[encoded data removed]",
            "text/plain": [
              "<Figure size 576x288 with 1 Axes>"
            ]
          },
          "metadata": {
            "tags": [],
            "needs_background": "light"
          }
        },
        {
          "output_type": "stream",
          "text": [
            " \n"
          ],
          "name": "stdout"
        }
      ]
    },
    {
      "cell_type": "code",
      "metadata": {
        "id": "OwxhWn47eqYO"
      },
      "source": [
        ""
      ],
      "execution_count": null,
      "outputs": []
    }
  ]
}